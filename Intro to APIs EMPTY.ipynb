{
 "cells": [
  {
   "cell_type": "markdown",
   "id": "7196054f",
   "metadata": {},
   "source": [
    "# Working with APIs"
   ]
  },
  {
   "cell_type": "markdown",
   "id": "0547b71e",
   "metadata": {},
   "source": [
    "API stands for Application programming interface<br>\n",
    "APIs are a way for applications to talk to eachother<br>\n",
    "In python we use the requests package to handle the connection<br>\n",
    "<small><strong>Note: It is requests with an s not request(this is a different package)</strong></small><br>\n",
    "Most API's communicate with data in the form of JSON<br>\n",
    "JSON stands for JavaScript Object Notation"
   ]
  },
  {
   "attachments": {},
   "cell_type": "markdown",
   "id": "cc80a1f0",
   "metadata": {},
   "source": [
    "### importing requests module"
   ]
  },
  {
   "cell_type": "code",
   "execution_count": 1,
   "id": "4db9d154",
   "metadata": {},
   "outputs": [],
   "source": [
    "import requests"
   ]
  },
  {
   "cell_type": "markdown",
   "id": "e8c2ce51",
   "metadata": {},
   "source": [
    "We will be connecting to the Ergast F1 Racer API today:\n",
    "http://ergast.com/mrd/\n",
    "\n",
    "to view JSON data nicely in the Chrome browser install the extension JSONview"
   ]
  },
  {
   "cell_type": "code",
   "execution_count": 7,
   "id": "52c440c6",
   "metadata": {},
   "outputs": [],
   "source": [
    "# Make sure to attach extension .json at the end of url"
   ]
  },
  {
   "attachments": {},
   "cell_type": "markdown",
   "id": "1f8dc8b3",
   "metadata": {},
   "source": [
    "### using the request package to access data from api/url"
   ]
  },
  {
   "cell_type": "code",
   "execution_count": 9,
   "id": "f60c1b4a",
   "metadata": {},
   "outputs": [],
   "source": []
  },
  {
   "attachments": {},
   "cell_type": "markdown",
   "id": "52f840a9",
   "metadata": {},
   "source": [
    "### checking and making sure we got a successful response from our API\n",
    "#### status codes: 200 = ok/successful, 400 = bad/unsuccessful"
   ]
  },
  {
   "cell_type": "code",
   "execution_count": null,
   "id": "7b63a204",
   "metadata": {},
   "outputs": [],
   "source": []
  },
  {
   "attachments": {},
   "cell_type": "markdown",
   "id": "bc3fa89d",
   "metadata": {},
   "source": [
    "### view the response as a JSON with .json()"
   ]
  },
  {
   "cell_type": "code",
   "execution_count": 13,
   "id": "ed4d3256",
   "metadata": {},
   "outputs": [],
   "source": []
  },
  {
   "attachments": {},
   "cell_type": "markdown",
   "id": "3b49045f",
   "metadata": {},
   "source": [
    "### Get the Driver Standings Data from JSON"
   ]
  },
  {
   "cell_type": "code",
   "execution_count": 16,
   "id": "f074dfcf",
   "metadata": {},
   "outputs": [],
   "source": []
  },
  {
   "attachments": {},
   "cell_type": "markdown",
   "id": "459823db",
   "metadata": {},
   "source": [
    "### Use a for loop to display all driver full names"
   ]
  },
  {
   "cell_type": "code",
   "execution_count": null,
   "id": "be46a950",
   "metadata": {},
   "outputs": [],
   "source": []
  },
  {
   "attachments": {},
   "cell_type": "markdown",
   "id": "43c20f0d",
   "metadata": {},
   "source": [
    "### Create a function getting certain driver info (givenName, familyName, dateOfBirth, wins, team)"
   ]
  },
  {
   "cell_type": "code",
   "execution_count": null,
   "id": "3740c752",
   "metadata": {},
   "outputs": [],
   "source": []
  },
  {
   "attachments": {},
   "cell_type": "markdown",
   "id": "1a713b13",
   "metadata": {},
   "source": [
    "### Making a more flexible function to handle different years and rounds"
   ]
  },
  {
   "cell_type": "code",
   "execution_count": 24,
   "id": "e9866280",
   "metadata": {},
   "outputs": [],
   "source": []
  },
  {
   "cell_type": "markdown",
   "id": "6d546014",
   "metadata": {},
   "source": [
    "# <strong>Homework</strong>\n",
    "\n",
    "check out this Pokemon API: https://pokeapi.co/ <br>\n",
    "\n",
    "Write a function that takes in a pokemon's name or id and returns dictionary that includes the pokemons: name, one ability, base_experience, and a URL for a sprite image<br>\n",
    "\n",
    "Use this function to get the info of 5 pokemon"
   ]
  },
  {
   "cell_type": "code",
   "execution_count": 10,
   "id": "5a9081e3",
   "metadata": {},
   "outputs": [
    {
     "name": "stdout",
     "output_type": "stream",
     "text": [
      "Your pokemons name is ivysaur\n",
      "One of their abilities is called overgrow\n",
      "They have a base experience of 142\n",
      "You can find an image of they here => https://raw.githubusercontent.com/PokeAPI/sprites/master/sprites/pokemon/2.png\n"
     ]
    }
   ],
   "source": [
    "import requests\n",
    "\n",
    "def pokeInfo(nameOrId):\n",
    "    url = f\"https://pokeapi.co/api/v2/pokemon/{nameOrId}\"\n",
    "    response = requests.get(url)\n",
    "    if response.ok:\n",
    "        data = response.json()\n",
    "        # print(data)\n",
    "        name = data['name']\n",
    "        ability = data['abilities'][0]['ability']['name']\n",
    "        baseXp = data['base_experience']\n",
    "        imgURL = data['sprites']['front_default']\n",
    "        return f\"Your pokemons name is {name}\\nOne of their abilities is called {ability}\\nThey have a base experience of {baseXp}\\nYou can find an image of they here => {imgURL}\"\n",
    "print(pokeInfo(2))"
   ]
  }
 ],
 "metadata": {
  "kernelspec": {
   "display_name": "Python 3.10.8 64-bit (microsoft store)",
   "language": "python",
   "name": "python3"
  },
  "language_info": {
   "codemirror_mode": {
    "name": "ipython",
    "version": 3
   },
   "file_extension": ".py",
   "mimetype": "text/x-python",
   "name": "python",
   "nbconvert_exporter": "python",
   "pygments_lexer": "ipython3",
   "version": "3.11.5"
  },
  "vscode": {
   "interpreter": {
    "hash": "aa82987a71ca0339a52998cd22613b0c002bda8349fa32a0cb67ceec3936a2bf"
   }
  }
 },
 "nbformat": 4,
 "nbformat_minor": 5
}
